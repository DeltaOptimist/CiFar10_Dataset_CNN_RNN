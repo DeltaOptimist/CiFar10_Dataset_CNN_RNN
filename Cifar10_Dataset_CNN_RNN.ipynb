{
  "nbformat": 4,
  "nbformat_minor": 0,
  "metadata": {
    "colab": {
      "provenance": [],
      "gpuType": "T4"
    },
    "kernelspec": {
      "name": "python3",
      "display_name": "Python 3"
    },
    "language_info": {
      "name": "python"
    },
    "accelerator": "GPU"
  },
  "cells": [
    {
      "cell_type": "code",
      "execution_count": 1,
      "metadata": {
        "id": "HysY__M-LGEc"
      },
      "outputs": [],
      "source": [
        "import tensorflow as tf\n",
        "from tensorflow.keras import layers, models\n",
        "from tensorflow.keras.datasets import cifar10\n",
        "from tensorflow.keras.utils import to_categorical\n",
        "\n"
      ]
    },
    {
      "cell_type": "code",
      "source": [
        "# Load and preprocess the CIFAR-10 dataset\n",
        "(train_images, train_labels), (test_images, test_labels) = cifar10.load_data()\n",
        "train_images = train_images.astype('float32') / 255\n",
        "test_images = test_images.astype('float32') / 255\n",
        "train_labels = to_categorical(train_labels)\n",
        "test_labels = to_categorical(test_labels)\n",
        "\n"
      ],
      "metadata": {
        "colab": {
          "base_uri": "https://localhost:8080/"
        },
        "id": "eI-QDAiyLlYF",
        "outputId": "dc25c8f6-ccb2-4b24-c242-01feeff56154"
      },
      "execution_count": 2,
      "outputs": [
        {
          "output_type": "stream",
          "name": "stdout",
          "text": [
            "Downloading data from https://www.cs.toronto.edu/~kriz/cifar-10-python.tar.gz\n",
            "170498071/170498071 [==============================] - 4s 0us/step\n"
          ]
        }
      ]
    },
    {
      "cell_type": "code",
      "source": [
        "# Create the CNN model\n",
        "cnn_model = models.Sequential()\n",
        "cnn_model.add(layers.Conv2D(32, (3, 3), activation='relu', input_shape=(32, 32, 3)))\n",
        "cnn_model.add(layers.MaxPooling2D((2, 2)))\n",
        "cnn_model.add(layers.Conv2D(64, (3, 3), activation='relu'))\n",
        "cnn_model.add(layers.MaxPooling2D((2, 2)))\n",
        "cnn_model.add(layers.Conv2D(64, (3, 3), activation='relu'))\n",
        "cnn_model.add(layers.Flatten())\n",
        "cnn_model.add(layers.Dense(64, activation='relu'))\n",
        "cnn_model.add(layers.Dense(10, activation='softmax'))\n",
        "\n"
      ],
      "metadata": {
        "id": "MALVNYKpLnzk"
      },
      "execution_count": 3,
      "outputs": []
    },
    {
      "cell_type": "code",
      "source": [
        "# Compile the CNN model\n",
        "cnn_model.compile(optimizer='adam',\n",
        "                  loss='categorical_crossentropy',\n",
        "                  metrics=['accuracy'])\n",
        "\n"
      ],
      "metadata": {
        "id": "ZAMzvRIdLnwb"
      },
      "execution_count": 4,
      "outputs": []
    },
    {
      "cell_type": "code",
      "source": [
        "# Train the CNN model\n",
        "cnn_history = cnn_model.fit(train_images, train_labels, epochs=10, batch_size=64,\n",
        "                            validation_data=(test_images, test_labels))\n",
        "\n",
        "# Evaluate the CNN model\n",
        "test_loss, test_acc = cnn_model.evaluate(test_images, test_labels)\n",
        "print(f'CNN Test Accuracy: {test_acc}')\n",
        "\n"
      ],
      "metadata": {
        "colab": {
          "base_uri": "https://localhost:8080/"
        },
        "id": "MnjfYlXNLntq",
        "outputId": "0d09c252-881a-4414-eeb3-30554d598bb3"
      },
      "execution_count": 5,
      "outputs": [
        {
          "output_type": "stream",
          "name": "stdout",
          "text": [
            "Epoch 1/10\n",
            "782/782 [==============================] - 16s 7ms/step - loss: 1.5604 - accuracy: 0.4286 - val_loss: 1.3139 - val_accuracy: 0.5250\n",
            "Epoch 2/10\n",
            "782/782 [==============================] - 4s 6ms/step - loss: 1.2223 - accuracy: 0.5664 - val_loss: 1.1213 - val_accuracy: 0.6031\n",
            "Epoch 3/10\n",
            "782/782 [==============================] - 5s 6ms/step - loss: 1.0758 - accuracy: 0.6223 - val_loss: 1.0364 - val_accuracy: 0.6317\n",
            "Epoch 4/10\n",
            "782/782 [==============================] - 4s 5ms/step - loss: 0.9812 - accuracy: 0.6556 - val_loss: 1.0101 - val_accuracy: 0.6481\n",
            "Epoch 5/10\n",
            "782/782 [==============================] - 5s 6ms/step - loss: 0.9059 - accuracy: 0.6847 - val_loss: 0.9507 - val_accuracy: 0.6676\n",
            "Epoch 6/10\n",
            "782/782 [==============================] - 4s 6ms/step - loss: 0.8462 - accuracy: 0.7030 - val_loss: 0.9226 - val_accuracy: 0.6794\n",
            "Epoch 7/10\n",
            "782/782 [==============================] - 4s 5ms/step - loss: 0.7929 - accuracy: 0.7227 - val_loss: 0.9795 - val_accuracy: 0.6640\n",
            "Epoch 8/10\n",
            "782/782 [==============================] - 5s 6ms/step - loss: 0.7451 - accuracy: 0.7398 - val_loss: 0.8794 - val_accuracy: 0.6948\n",
            "Epoch 9/10\n",
            "782/782 [==============================] - 4s 6ms/step - loss: 0.7064 - accuracy: 0.7532 - val_loss: 0.8780 - val_accuracy: 0.6994\n",
            "Epoch 10/10\n",
            "782/782 [==============================] - 4s 5ms/step - loss: 0.6684 - accuracy: 0.7643 - val_loss: 0.8988 - val_accuracy: 0.6984\n",
            "313/313 [==============================] - 1s 3ms/step - loss: 0.8988 - accuracy: 0.6984\n",
            "CNN Test Accuracy: 0.6984000205993652\n"
          ]
        }
      ]
    },
    {
      "cell_type": "code",
      "source": [],
      "metadata": {
        "id": "YhKZzFkeL1yp"
      },
      "execution_count": null,
      "outputs": []
    },
    {
      "cell_type": "code",
      "source": [],
      "metadata": {
        "id": "JXiRcGUAL2Gk"
      },
      "execution_count": null,
      "outputs": []
    },
    {
      "cell_type": "code",
      "source": [
        "# Import necessary libraries for RNN\n",
        "from tensorflow.keras.layers import LSTM, Embedding, Dense\n",
        "\n",
        "# Load and preprocess the CIFAR-10 dataset (flatten the images for RNN)\n",
        "(train_images, train_labels), (test_images, test_labels) = cifar10.load_data()\n",
        "train_images = train_images.reshape((50000, 32 * 32 * 3))\n",
        "train_images = train_images.astype('float32') / 255\n",
        "test_images = test_images.reshape((10000, 32 * 32 * 3))\n",
        "test_images = test_images.astype('float32') / 255\n",
        "train_labels = to_categorical(train_labels)\n",
        "test_labels = to_categorical(test_labels)\n",
        "\n"
      ],
      "metadata": {
        "id": "R5i9O6CELnqf"
      },
      "execution_count": 6,
      "outputs": []
    },
    {
      "cell_type": "code",
      "source": [
        "# Create the RNN model\n",
        "rnn_model = models.Sequential()\n",
        "rnn_model.add(Embedding(input_dim=32 * 32 * 3, output_dim=128))\n",
        "rnn_model.add(LSTM(64))\n",
        "rnn_model.add(Dense(10, activation='softmax'))\n",
        "\n"
      ],
      "metadata": {
        "id": "1U8iv_x3Lnop"
      },
      "execution_count": 7,
      "outputs": []
    },
    {
      "cell_type": "code",
      "source": [
        "# Compile the RNN model\n",
        "rnn_model.compile(optimizer='adam',\n",
        "                  loss='categorical_crossentropy',\n",
        "                  metrics=['accuracy'])\n",
        "\n"
      ],
      "metadata": {
        "id": "Bc1WPwCrLwQw"
      },
      "execution_count": 8,
      "outputs": []
    },
    {
      "cell_type": "code",
      "source": [
        "# Train the RNN model\n",
        "rnn_history = rnn_model.fit(train_images, train_labels, epochs=10, batch_size=64,\n",
        "                            validation_data=(test_images, test_labels))\n",
        "\n",
        "# Evaluate the RNN model\n",
        "test_loss, test_acc = rnn_model.evaluate(test_images, test_labels)\n",
        "print(f'RNN Test Accuracy: {test_acc}')\n"
      ],
      "metadata": {
        "colab": {
          "base_uri": "https://localhost:8080/"
        },
        "id": "YcxgG12RLwM4",
        "outputId": "6a404f60-eccf-48e3-8861-80b6e6dad21e"
      },
      "execution_count": 9,
      "outputs": [
        {
          "output_type": "stream",
          "name": "stdout",
          "text": [
            "Epoch 1/10\n",
            "782/782 [==============================] - 81s 99ms/step - loss: 2.3030 - accuracy: 0.1031 - val_loss: 2.2982 - val_accuracy: 0.1044\n",
            "Epoch 2/10\n",
            "782/782 [==============================] - 81s 104ms/step - loss: 2.2987 - accuracy: 0.1024 - val_loss: 2.2984 - val_accuracy: 0.1050\n",
            "Epoch 3/10\n",
            "782/782 [==============================] - 81s 104ms/step - loss: 2.2984 - accuracy: 0.1026 - val_loss: 2.2977 - val_accuracy: 0.1046\n",
            "Epoch 4/10\n",
            "782/782 [==============================] - 76s 98ms/step - loss: 2.2981 - accuracy: 0.1032 - val_loss: 2.2974 - val_accuracy: 0.1045\n",
            "Epoch 5/10\n",
            "782/782 [==============================] - 82s 105ms/step - loss: 2.2981 - accuracy: 0.1032 - val_loss: 2.2972 - val_accuracy: 0.1050\n",
            "Epoch 6/10\n",
            "782/782 [==============================] - 81s 104ms/step - loss: 2.2859 - accuracy: 0.1172 - val_loss: 2.2975 - val_accuracy: 0.1046\n",
            "Epoch 7/10\n",
            "782/782 [==============================] - 81s 104ms/step - loss: 2.2982 - accuracy: 0.1041 - val_loss: 2.2974 - val_accuracy: 0.1042\n",
            "Epoch 8/10\n",
            "782/782 [==============================] - 81s 103ms/step - loss: 2.2841 - accuracy: 0.1164 - val_loss: 2.2613 - val_accuracy: 0.1411\n",
            "Epoch 9/10\n",
            "782/782 [==============================] - 81s 104ms/step - loss: 2.2777 - accuracy: 0.1271 - val_loss: 2.2983 - val_accuracy: 0.1041\n",
            "Epoch 10/10\n",
            "782/782 [==============================] - 77s 98ms/step - loss: 2.2981 - accuracy: 0.1036 - val_loss: 2.2974 - val_accuracy: 0.1057\n",
            "313/313 [==============================] - 11s 36ms/step - loss: 2.2974 - accuracy: 0.1057\n",
            "RNN Test Accuracy: 0.10570000112056732\n"
          ]
        }
      ]
    },
    {
      "cell_type": "code",
      "source": [],
      "metadata": {
        "id": "r0LBQ9KWLwIy"
      },
      "execution_count": null,
      "outputs": []
    },
    {
      "cell_type": "code",
      "source": [],
      "metadata": {
        "id": "VmbB9pWDLwFh"
      },
      "execution_count": null,
      "outputs": []
    }
  ]
}